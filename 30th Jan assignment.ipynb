{
 "cells": [
  {
   "cell_type": "code",
   "execution_count": 13,
   "id": "7fe80ad3-15ee-426c-9185-72e4742c6c70",
   "metadata": {},
   "outputs": [
    {
     "name": "stdin",
     "output_type": "stream",
     "text": [
      "Enter the Marks : 45\n"
     ]
    },
    {
     "name": "stdout",
     "output_type": "stream",
     "text": [
      "Grade-D\n"
     ]
    }
   ],
   "source": [
    "marks= int(input(\"Enter the Marks :\"))\n",
    "if marks>90:\n",
    "    print(\"Grade-A\")\n",
    "elif marks<=90 and marks>80:\n",
    "    print(\"Grade-B\")\n",
    "elif marks<=80 and marks>=60:\n",
    "    print(\"Grade-C\")\n",
    "elif marks<60:\n",
    "    print(\"Grade-D\")"
   ]
  },
  {
   "cell_type": "code",
   "execution_count": 15,
   "id": "7bdc2f6b-a368-4aac-8f19-a70b136d6e4f",
   "metadata": {},
   "outputs": [
    {
     "name": "stdin",
     "output_type": "stream",
     "text": [
      "enter the cost price: 120000\n"
     ]
    },
    {
     "name": "stdout",
     "output_type": "stream",
     "text": [
      "15% of road tax to be paid\n"
     ]
    }
   ],
   "source": [
    "cost=int(input(\"enter the cost price:\"))\n",
    "if cost>100000:\n",
    "    print(\"15% of road tax to be paid\")\n",
    "elif cost >50000 and cost<=100000:\n",
    "    print(\"10% of road tax to be paid\")\n",
    "elif cost <=50000:\n",
    "    print(\"4% of tax to be paid\")"
   ]
  },
  {
   "cell_type": "code",
   "execution_count": 4,
   "id": "2c9440c2-3980-4b75-a632-e17483400347",
   "metadata": {},
   "outputs": [
    {
     "name": "stdin",
     "output_type": "stream",
     "text": [
      "Enter the city name: Jaipur\n"
     ]
    },
    {
     "name": "stdout",
     "output_type": "stream",
     "text": [
      "Jal Mahal\n"
     ]
    }
   ],
   "source": [
    "city=input(\"Enter the city name:\")\n",
    "if city ==\"delhi\":\n",
    "    print(\"monumant = Red Fort\")\n",
    "elif city == \"Agra\":\n",
    "    print(\"monumant = Taj Mahal\")\n",
    "elif city == \"Jaipur\":\n",
    "    print(\"Jal Mahal\")"
   ]
  },
  {
   "cell_type": "code",
   "execution_count": 3,
   "id": "10cc04db-2881-4e6c-adca-98fbed5f0c98",
   "metadata": {},
   "outputs": [
    {
     "name": "stdin",
     "output_type": "stream",
     "text": [
      "enter the number; 300\n"
     ]
    },
    {
     "name": "stdout",
     "output_type": "stream",
     "text": [
      "4\n"
     ]
    }
   ],
   "source": [
    "number=int(input(\"enter the number:\"))\n",
    "count = 0\n",
    "while number >10:\n",
    "    number = number/3\n",
    "    count = count + 1\n",
    "print(count)"
   ]
  },
  {
   "cell_type": "code",
   "execution_count": null,
   "id": "1d5ef712-d0d2-477c-93e0-ec81d9402ffc",
   "metadata": {},
   "outputs": [],
   "source": [
    "Q4. why and when to use while loop in python with detailed examples?"
   ]
  },
  {
   "cell_type": "code",
   "execution_count": null,
   "id": "ae6d13b9-70b6-4ad8-bc73-cc75550058a5",
   "metadata": {},
   "outputs": [],
   "source": [
    "While loop is used when we dont know how many times loop will execute, as in case of for loop we know how many times it will execute.\n",
    "Also while loop executes until it follows certain condition provided by user."
   ]
  },
  {
   "cell_type": "code",
   "execution_count": 7,
   "id": "1d9a30b8-d90e-47e7-b22b-87c101e82b48",
   "metadata": {},
   "outputs": [
    {
     "name": "stdout",
     "output_type": "stream",
     "text": [
      "sum of first 100 natural number: 5050\n"
     ]
    }
   ],
   "source": [
    "#printing the sum of first 100 numbers\n",
    "num= 0\n",
    "sum=0\n",
    "while num<=100:\n",
    "    sum = sum + num\n",
    "    num = num+1\n",
    "print(\"sum of first 100 natural number:\",sum)"
   ]
  },
  {
   "cell_type": "code",
   "execution_count": null,
   "id": "e7543920-4185-49e7-8251-9a297b3b76ad",
   "metadata": {},
   "outputs": [],
   "source": [
    "Q.5. Use nested while loop to print 3 different patterns"
   ]
  },
  {
   "cell_type": "code",
   "execution_count": 1,
   "id": "d28d90a4-0489-4d63-92ff-388fc8323059",
   "metadata": {},
   "outputs": [
    {
     "name": "stdout",
     "output_type": "stream",
     "text": [
      "1 \n",
      "3 3 \n",
      "5 5 5 \n",
      "7 7 7 7 \n",
      "9 9 9 9 9 \n"
     ]
    }
   ],
   "source": [
    "rows = 5\n",
    "i = 1\n",
    "while i <= rows:\n",
    "    j = 1\n",
    "    while j <= i:\n",
    "        print((i * 2 - 1), end=\" \")\n",
    "        j = j + 1\n",
    "    i = i + 1\n",
    "    print('')"
   ]
  },
  {
   "cell_type": "code",
   "execution_count": 2,
   "id": "aeb8963c-e6a6-4909-897d-f13249332fd9",
   "metadata": {},
   "outputs": [
    {
     "name": "stdin",
     "output_type": "stream",
     "text": [
      "Enter number of rows :  5\n"
     ]
    },
    {
     "name": "stdout",
     "output_type": "stream",
     "text": [
      "* \n",
      "* * \n",
      "* * * \n",
      "* * * * \n",
      "* * * * * \n"
     ]
    }
   ],
   "source": [
    "n = int(input('Enter number of rows : '))\n",
    " \n",
    "i = 1\n",
    "while i <= n :\n",
    "    j = 1\n",
    "    while j <= i:\n",
    "        print(\"*\", end = \" \")\n",
    "        j += 1\n",
    "    print()\n",
    "    i += 1"
   ]
  },
  {
   "cell_type": "code",
   "execution_count": 3,
   "id": "060be0b0-fc43-4aa2-9b7f-ae101867037a",
   "metadata": {},
   "outputs": [
    {
     "name": "stdin",
     "output_type": "stream",
     "text": [
      "Enter number of rows :  6\n"
     ]
    },
    {
     "name": "stdout",
     "output_type": "stream",
     "text": [
      "* * * * * * \n",
      "* * * * * \n",
      "* * * * \n",
      "* * * \n",
      "* * \n",
      "* \n"
     ]
    }
   ],
   "source": [
    "n = int(input('Enter number of rows : '))\n",
    " \n",
    "i = 1\n",
    "while i <= n :\n",
    "    j = n\n",
    "    while j >= i:\n",
    "        print(\"*\", end = \" \")\n",
    "        j -= 1\n",
    "    print()\n",
    "    i += 1"
   ]
  },
  {
   "cell_type": "code",
   "execution_count": null,
   "id": "2e017f90-947d-45d2-8923-b7bbc4445cf2",
   "metadata": {},
   "outputs": [],
   "source": [
    "Reverse while loop to display number from 10 to 1"
   ]
  },
  {
   "cell_type": "code",
   "execution_count": null,
   "id": "ae1ff4bb-b0a8-4380-979e-8deed302c57e",
   "metadata": {},
   "outputs": [],
   "source": [
    "num = 10\n",
    "count = 10\n",
    "while num<=10:\n",
    "    count = num-1\n",
    "    num =num-1\n",
    "    print(count)"
   ]
  },
  {
   "cell_type": "code",
   "execution_count": null,
   "id": "9f13ff69-3a4c-45e6-ba0d-5efefdf2d65d",
   "metadata": {},
   "outputs": [],
   "source": []
  }
 ],
 "metadata": {
  "kernelspec": {
   "display_name": "Python 3 (ipykernel)",
   "language": "python",
   "name": "python3"
  },
  "language_info": {
   "codemirror_mode": {
    "name": "ipython",
    "version": 3
   },
   "file_extension": ".py",
   "mimetype": "text/x-python",
   "name": "python",
   "nbconvert_exporter": "python",
   "pygments_lexer": "ipython3",
   "version": "3.10.8"
  }
 },
 "nbformat": 4,
 "nbformat_minor": 5
}
